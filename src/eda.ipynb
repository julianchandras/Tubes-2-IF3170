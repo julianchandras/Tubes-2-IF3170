{
 "cells": [
  {
   "cell_type": "code",
   "execution_count": 2,
   "metadata": {},
   "outputs": [
    {
     "name": "stdout",
     "output_type": "stream",
     "text": [
      "Done doing import\n",
      "LOCAL_PATH: {'TRAIN_ADDITIONAL_FEATURES': '../data/train/additional_features_train.csv', 'TRAIN_BASIC_FEATURES': '../data/train/basic_features_train.csv', 'TRAIN_CONTENT_FEATURES': '../data/train/content_features_train.csv', 'TRAIN_FLOW_FEATURES': '../data/train/flow_features_train.csv', 'TRAIN_LABELS': '../data/train/labels_train.csv', 'TRAIN_TIME_FEATURES': '../data/train/time_features_train.csv', 'TRAIN_METADATA': '../data/train/UNSW-NB15_features-modified.csv'}\n"
     ]
    }
   ],
   "source": [
    "from data import LOCAL_PATH\n",
    "from csv_reader import CSVReader\n",
    "\n",
    "\n",
    "\n",
    "print(\"Done doing import\")\n",
    "print(\"LOCAL_PATH:\", LOCAL_PATH)"
   ]
  },
  {
   "cell_type": "code",
   "execution_count": 3,
   "metadata": {},
   "outputs": [
    {
     "name": "stdout",
     "output_type": "stream",
     "text": [
      "Successfully loaded TRAIN_FLOW_FEATURES\n",
      "Successfully loaded TRAIN_LABELS\n",
      "Successfully loaded TRAIN_METADATA\n",
      "Successfully loaded TRAIN_CONTENT_FEATURES\n",
      "Successfully loaded TRAIN_TIME_FEATURES\n",
      "Successfully loaded TRAIN_BASIC_FEATURES\n",
      "Successfully loaded TRAIN_ADDITIONAL_FEATURES\n"
     ]
    },
    {
     "data": {
      "text/plain": [
       "<csv_reader.CSVReader at 0x723e587c1b10>"
      ]
     },
     "execution_count": 3,
     "metadata": {},
     "output_type": "execute_result"
    }
   ],
   "source": [
    "CSVReader(LOCAL_PATH)"
   ]
  }
 ],
 "metadata": {
  "kernelspec": {
   "display_name": "venv",
   "language": "python",
   "name": "python3"
  },
  "language_info": {
   "codemirror_mode": {
    "name": "ipython",
    "version": 3
   },
   "file_extension": ".py",
   "mimetype": "text/x-python",
   "name": "python",
   "nbconvert_exporter": "python",
   "pygments_lexer": "ipython3",
   "version": "3.10.12"
  }
 },
 "nbformat": 4,
 "nbformat_minor": 2
}
